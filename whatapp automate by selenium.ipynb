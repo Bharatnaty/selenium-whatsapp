{
 "cells": [
  {
   "cell_type": "code",
   "execution_count": 1,
   "metadata": {},
   "outputs": [],
   "source": [
    "from selenium import webdriver\n",
    "from selenium.webdriver.support.ui import WebDriverWait\n",
    "from selenium.webdriver.support.ui import Select\n",
    "from selenium.webdriver.common.by import By\n",
    "from selenium.webdriver.common.keys import Keys\n",
    "from selenium.webdriver.chrome.options import Options\n",
    "import time\n",
    "from selenium.webdriver.support import expected_conditions as EC"
   ]
  },
  {
   "cell_type": "code",
   "execution_count": null,
   "metadata": {},
   "outputs": [],
   "source": [
    "driver = webdriver.Chrome(r\"C:\\Users\\Admin\\Downloads\\chromedriver.exe\")\n",
    "driver.get(\"https://web.whatsapp.com/\")\n",
    "wait = WebDriverWait(driver, 600)\n",
    "  \n",
    "# Replace 'Friend's Name' with the name of your friend \n",
    "# or the name of a group \n",
    "target = '\"Appa\"'\n",
    "  \n",
    "# Replace the below string with your own message\n",
    "string = \"Message sent using Python!!!\"\n",
    "  \n",
    "x_arg = \"//*[@id='pane-side']/div[1]/div/div/div[3]/div/div/div[2]/div[1]/div[1]/span/span\"\n",
    "group_title = wait.until(EC.presence_of_element_located((\n",
    "    By.XPATH, x_arg)))\n",
    "group_title.click()\n",
    "inp_xpath = \"//*[@id='main']/footer/div[1]/div[2]/div/div[1]\"\n",
    "input_box = wait.until(EC.presence_of_element_located((\n",
    "    By.XPATH, inp_xpath)))\n",
    "for i in range(100):\n",
    "    input_box.send_keys(string + Keys.ENTER)\n",
    "    time.sleep(1)"
   ]
  }
 ],
 "metadata": {
  "kernelspec": {
   "display_name": "Python 3",
   "language": "python",
   "name": "python3"
  },
  "language_info": {
   "codemirror_mode": {
    "name": "ipython",
    "version": 3
   },
   "file_extension": ".py",
   "mimetype": "text/x-python",
   "name": "python",
   "nbconvert_exporter": "python",
   "pygments_lexer": "ipython3",
   "version": "3.8.5"
  }
 },
 "nbformat": 4,
 "nbformat_minor": 4
}
